{
  "cells": [
    {
      "cell_type": "markdown",
      "id": "febec091",
      "metadata": {
        "id": "febec091"
      },
      "source": [
        "# Outlook #"
      ]
    },
    {
      "cell_type": "markdown",
      "id": "73de3b7d",
      "metadata": {
        "id": "73de3b7d"
      },
      "source": [
        "In this colab we will investigate the **value iteration** and **policy iteration** algorithms in a maze environment."
      ]
    },
    {
      "cell_type": "markdown",
      "id": "6682d547",
      "metadata": {
        "id": "6682d547"
      },
      "source": [
        "# Installation #"
      ]
    },
    {
      "cell_type": "code",
      "execution_count": 84,
      "id": "15b22c60",
      "metadata": {
        "colab": {
          "base_uri": "https://localhost:8080/"
        },
        "id": "15b22c60",
        "outputId": "a6b80f5e-9a10-43f5-a696-fdcf6280b5ba"
      },
      "outputs": [
        {
          "output_type": "stream",
          "name": "stdout",
          "text": [
            "Reading package lists... Done\n",
            "Building dependency tree       \n",
            "Reading state information... Done\n",
            "ffmpeg is already the newest version (7:3.4.11-0ubuntu0.1).\n",
            "The following package was automatically installed and is no longer required:\n",
            "  libnvidia-common-460\n",
            "Use 'apt autoremove' to remove it.\n",
            "0 upgraded, 0 newly installed, 0 to remove and 20 not upgraded.\n"
          ]
        }
      ],
      "source": [
        "if get_ipython().__class__.__module__ == \"google.colab._shell\":\n",
        "    !apt-get install ffmpeg"
      ]
    },
    {
      "cell_type": "code",
      "execution_count": 85,
      "id": "938429e4",
      "metadata": {
        "id": "938429e4"
      },
      "outputs": [],
      "source": [
        "try:\n",
        "    import my_gym\n",
        "except ModuleNotFoundError as e:\n",
        "    !pip install git+https://github.com/osigaud/my_gym"
      ]
    },
    {
      "cell_type": "code",
      "execution_count": 86,
      "id": "33aae6af",
      "metadata": {
        "id": "33aae6af"
      },
      "outputs": [],
      "source": [
        "import os\n",
        "from typing import Tuple, List\n",
        "\n",
        "import numpy as np\n",
        "import matplotlib.pyplot as plt\n",
        "\n",
        "from mazemdp.maze_plotter import show_videos\n",
        "from my_gym.envs.maze_mdp import MazeMDPEnv\n",
        "\n",
        "# For visualization\n",
        "os.environ[\"VIDEO_FPS\"] = \"5\"\n",
        "if not os.path.isdir(\"./videos\"):\n",
        "    os.mkdir(\"./videos\")\n",
        "\n",
        "from IPython.display import Video"
      ]
    },
    {
      "cell_type": "code",
      "execution_count": null,
      "id": "d43187c8",
      "metadata": {
        "id": "d43187c8"
      },
      "outputs": [],
      "source": [
        "# Agents and MDPs #"
      ]
    },
    {
      "cell_type": "markdown",
      "id": "4faaea4a",
      "metadata": {
        "id": "4faaea4a"
      },
      "source": [
        "\n",
        "A reinforcement learning agent interacts with an environment represented as a Markov Decision Process (MDP). It is defined by a tuple $(S, A, P, r, \\gamma)$ where $S$ is the state space, $A$ is the action space, $P(state_t, action_t, state_{t+1})$ is the transition function, $r(state_t, action_t)$ is the reward function and $\\gamma \\in [0, 1]$ is the discount factor.\n",
        "\n"
      ]
    },
    {
      "cell_type": "markdown",
      "id": "ae177846",
      "metadata": {
        "id": "ae177846"
      },
      "source": [
        "In what follows we import code to create an MDP corresponding to a random maze (see https://github.com/osigaud/SimpleMazeMDP for documentation)."
      ]
    },
    {
      "cell_type": "code",
      "execution_count": 87,
      "id": "c9476f2a",
      "metadata": {
        "colab": {
          "base_uri": "https://localhost:8080/",
          "height": 377,
          "referenced_widgets": [
            "aa38482c40d245b2a1e47adea615afbf",
            "aa01af71c4e74a859e02a3678480654b"
          ]
        },
        "id": "c9476f2a",
        "outputId": "4b79014e-d0f9-419f-f7eb-c017ec3e1f9f"
      },
      "outputs": [
        {
          "output_type": "display_data",
          "data": {
            "text/plain": [
              "Output()"
            ],
            "application/vnd.jupyter.widget-view+json": {
              "version_major": 2,
              "version_minor": 0,
              "model_id": "aa38482c40d245b2a1e47adea615afbf"
            }
          },
          "metadata": {}
        }
      ],
      "source": [
        "import gym\n",
        "import my_gym\n",
        "\n",
        "\n",
        "env = gym.make(\"MazeMDP-v0\", kwargs={\"width\": 5, \"height\": 5, \"ratio\": 0.2})\n",
        "env.reset()\n",
        "\n",
        "# in dynamic programming, there is no agent moving in the environment\n",
        "env.set_no_agent()\n",
        "env.init_draw(\"The maze\");"
      ]
    },
    {
      "cell_type": "markdown",
      "id": "547662a6",
      "metadata": {
        "id": "547662a6"
      },
      "source": [
        "# Dynamic programming #"
      ]
    },
    {
      "cell_type": "markdown",
      "id": "17fe8bf1",
      "metadata": {
        "id": "17fe8bf1"
      },
      "source": [
        "\n",
        "The goal of an RL agent is to find the optimal behaviour, defined by a policy $\\pi$ that assigns an action (or distribution over actions) to each state so as to maximize the agent's total expected reward. In order to estimate how good a state is, either a state value function $V(x)$ or a state-action value function $Q(x,u)$ is used.\n",
        "\n",
        "Dynamic programming algorithms are used for planning, they require a full knowledge of the MDP from the agent (in contrast to \"true\" RL where the agent does not know the transition and reward functions).\n",
        "They find the optimal policy by computing a value function $V$ or an action-value function $Q$ over the state space or state-action space of the given MDP. **Value iteration** and **policy iteration** are two standard dynamic programming algorithms. You should study both of them using both $V$ and $Q$, as these algorithms contain the basic building blocks for most RL algorithms.\n"
      ]
    },
    {
      "cell_type": "markdown",
      "id": "5ab2f6b8",
      "metadata": {
        "id": "5ab2f6b8"
      },
      "source": [
        "## Value Iteration ##"
      ]
    },
    {
      "cell_type": "markdown",
      "id": "533e1dcd",
      "metadata": {
        "id": "533e1dcd"
      },
      "source": [
        "### Value Iteration with the V function ###\n"
      ]
    },
    {
      "cell_type": "markdown",
      "id": "8b8f42a3",
      "metadata": {
        "id": "8b8f42a3"
      },
      "source": [
        "\n",
        "When using the $V$ function, **value iteration** aims at finding the optimal values $V^*$ based on the Bellman Optimality Equation:\n",
        "$$V^*(s) = \\max_a \\big[ r(s,a) + \\gamma \\sum_{y \\in S} P(s,a,y)V^*(y) \\big],$$\n",
        "\n",
        "where:\n",
        "\n",
        "*   $r(s, a)$ is the reward obtained from taking action $a$ in state $s$,\n",
        "*   $P(s, a, y)$ is the probability of reaching state $y$ when taking action $a$ in state $s$, \n",
        "*   $\\gamma \\in [0,1]$ is a discount factor defining the relative importance of long term rewards over short term ones (the closer to 0, the more the agent focuses on immediate rewards).\n",
        "\n",
        "In practice, we start with an initial value function $V^0$ (for instance, the values of all states are 0), and then we iterate for all states $s$\n",
        "\n",
        "$$V^{i+1}(s) = \\max_a \\big[ r(s,a) + \\gamma \\sum_{y \\in S} P(s,a,y)V^i(y) \\big],$$\n",
        "\n",
        "until the values converge, that is $\\forall s, V^{i+1}(s) \\approx V^i(s)$. It is shown that at convergence, $\\forall s, V^i(s)= V^*(s)$."
      ]
    },
    {
      "cell_type": "markdown",
      "id": "c9bc781f",
      "metadata": {
        "id": "c9bc781f"
      },
      "source": [
        "To visualize the policy obtained from **value iteration**, we need to first define the `get_policy_from_V()` function"
      ]
    },
    {
      "cell_type": "code",
      "execution_count": 88,
      "id": "cef40df0",
      "metadata": {
        "id": "cef40df0"
      },
      "outputs": [],
      "source": [
        "def get_policy_from_v(mdp: MazeMDPEnv, v: np.ndarray) -> np.ndarray:\n",
        "    # Outputs a policy given the state values\n",
        "    policy = np.zeros(mdp.nb_states)  # initial state values are set to 0\n",
        "    for x in range(mdp.nb_states):  # for each state x\n",
        "        if x not in mdp.terminal_states:\n",
        "            # Compute the value of the state x for each action u of the MDP action space\n",
        "            v_temp = []\n",
        "            for u in mdp.action_space.actions:\n",
        "                # Process sum of the values of the neighbouring states\n",
        "                summ = 0\n",
        "                for y in range(mdp.nb_states):\n",
        "                    summ = summ + mdp.P[x, u, y] * v[y]\n",
        "                v_temp.append(mdp.r[x, u] + mdp.gamma * summ)\n",
        "            policy[x] = np.argmax(v_temp)\n",
        "    return policy"
      ]
    },
    {
      "cell_type": "markdown",
      "id": "e4d63213",
      "metadata": {
        "id": "e4d63213"
      },
      "source": [
        "\n",
        "The `value_iteration_v(mdp)` function below provides the code of **value iteration** using the $V$ function. It is given as an example from which you can derive other instances of dynamic programming algorithms. Look at it more closely, this will help for later questions:\n",
        "\n",
        "* you can ignore the `mdp.new_render()` and `mdp.render(...)` functions which are here to provide the visualization of the iterations.\n",
        "* find in the code the loop over states, the main loop that performs these updates until the values don't change significantly anymore, the main update equation. Found them? OK, you can continue...\n"
      ]
    },
    {
      "cell_type": "code",
      "execution_count": 89,
      "id": "d457e025",
      "metadata": {
        "id": "d457e025"
      },
      "outputs": [],
      "source": [
        "from gym.wrappers.monitoring.video_recorder import VideoRecorder\n",
        "\n",
        "def value_iteration_v(mdp: MazeMDPEnv, render: bool = True) -> Tuple[np.ndarray, List[float]]:\n",
        "    # Value Iteration using the state value v\n",
        "    v = np.zeros(mdp.nb_states)  # initial state values are set to 0\n",
        "    v_list = []\n",
        "    stop = False\n",
        "\n",
        "    video_recorder = VideoRecorder(mdp, \"videos/ValueIterationV.mp4\", enabled=render)\n",
        "    mdp.set_title(\"Value iteration V\")\n",
        "    if render:\n",
        "        mdp.render()\n",
        "        video_recorder.capture_frame()\n",
        "    mdp.set_render_func(mdp.draw_v, lambda draw: draw(v))\n",
        "\n",
        "    while not stop:\n",
        "        v_old = v.copy()\n",
        "        if render:\n",
        "            mdp.render()\n",
        "            video_recorder.capture_frame()\n",
        "\n",
        "        for x in range(mdp.nb_states):  # for each state x\n",
        "            # Compute the value of the state x for each action u of the MDP action space\n",
        "            if x not in mdp.terminal_states:\n",
        "                v_temp = []\n",
        "                for u in mdp.action_space.actions:\n",
        "                    # Process sum of the values of the neighbouring states\n",
        "                    summ = 0\n",
        "                    for y in range(mdp.nb_states):\n",
        "                        summ = summ + mdp.P[x, u, y] * v_old[y]\n",
        "                    v_temp.append(mdp.r[x, u] + mdp.gamma * summ)\n",
        "\n",
        "                # Select the highest state value among those computed\n",
        "                v[x] = np.max(v_temp)\n",
        "\n",
        "        # Test if convergence has been reached\n",
        "        if (np.linalg.norm(v - v_old)) < 0.01:\n",
        "            stop = True\n",
        "        v_list.append(np.linalg.norm(v))\n",
        "\n",
        "    if render:\n",
        "        policy = get_policy_from_v(mdp, v)\n",
        "        mdp.set_render_func(mdp.draw_v_pi, lambda draw: draw(v, policy))\n",
        "        mdp.render()\n",
        "        video_recorder.capture_frame()\n",
        "\n",
        "\n",
        "    video_recorder.close()\n",
        "    return v, v_list"
      ]
    },
    {
      "cell_type": "markdown",
      "id": "21abe348",
      "metadata": {
        "id": "21abe348"
      },
      "source": [
        "Let us run it on the previously defined MDP"
      ]
    },
    {
      "cell_type": "code",
      "execution_count": 90,
      "id": "e6537508",
      "metadata": {
        "colab": {
          "base_uri": "https://localhost:8080/"
        },
        "id": "e6537508",
        "outputId": "4404b757-6f2f-4443-d0d4-6fd5c34af007"
      },
      "outputs": [
        {
          "output_type": "stream",
          "name": "stdout",
          "text": [
            "[0.43046721 0.4782969  0.531441   0.59049    0.6561     0.531441\n",
            " 0.59049    0.6561     0.729      0.531441   0.59049    0.6561\n",
            " 0.729      0.81       0.6561     0.729      0.81       0.9\n",
            " 0.59049    1.         0.        ]\n"
          ]
        }
      ],
      "source": [
        "v, v_list = value_iteration_v(env, render=False)\n",
        "print(v)\n"
      ]
    },
    {
      "cell_type": "code",
      "execution_count": 8,
      "id": "1f1d4212",
      "metadata": {
        "colab": {
          "base_uri": "https://localhost:8080/",
          "height": 311
        },
        "id": "1f1d4212",
        "outputId": "b008810f-d44b-47f4-ca01-550c65f3fa21"
      },
      "outputs": [
        {
          "output_type": "error",
          "ename": "TypeError",
          "evalue": "ignored",
          "traceback": [
            "\u001b[0;31m---------------------------------------------------------------------------\u001b[0m",
            "\u001b[0;31mTypeError\u001b[0m                                 Traceback (most recent call last)",
            "\u001b[0;32m<ipython-input-8-0a08fd9a4228>\u001b[0m in \u001b[0;36m<module>\u001b[0;34m\u001b[0m\n\u001b[0;32m----> 1\u001b[0;31m \u001b[0mdisplay\u001b[0m\u001b[0;34m(\u001b[0m\u001b[0mVideo\u001b[0m\u001b[0;34m(\u001b[0m\u001b[0mfilename\u001b[0m\u001b[0;34m=\u001b[0m\u001b[0;34m\"./videos/ValueIterationV.mp4\"\u001b[0m\u001b[0;34m)\u001b[0m\u001b[0;34m)\u001b[0m\u001b[0;34m\u001b[0m\u001b[0;34m\u001b[0m\u001b[0m\n\u001b[0m",
            "\u001b[0;32m/usr/local/lib/python3.7/dist-packages/IPython/core/display.py\u001b[0m in \u001b[0;36m__init__\u001b[0;34m(self, data, url, filename, embed, mimetype, width, height)\u001b[0m\n\u001b[1;32m   1362\u001b[0m             \u001b[0murl\u001b[0m \u001b[0;34m=\u001b[0m \u001b[0mdata\u001b[0m\u001b[0;34m\u001b[0m\u001b[0;34m\u001b[0m\u001b[0m\n\u001b[1;32m   1363\u001b[0m             \u001b[0mdata\u001b[0m \u001b[0;34m=\u001b[0m \u001b[0;32mNone\u001b[0m\u001b[0;34m\u001b[0m\u001b[0;34m\u001b[0m\u001b[0m\n\u001b[0;32m-> 1364\u001b[0;31m         \u001b[0;32melif\u001b[0m \u001b[0mos\u001b[0m\u001b[0;34m.\u001b[0m\u001b[0mpath\u001b[0m\u001b[0;34m.\u001b[0m\u001b[0mexists\u001b[0m\u001b[0;34m(\u001b[0m\u001b[0mdata\u001b[0m\u001b[0;34m)\u001b[0m\u001b[0;34m:\u001b[0m\u001b[0;34m\u001b[0m\u001b[0;34m\u001b[0m\u001b[0m\n\u001b[0m\u001b[1;32m   1365\u001b[0m             \u001b[0mfilename\u001b[0m \u001b[0;34m=\u001b[0m \u001b[0mdata\u001b[0m\u001b[0;34m\u001b[0m\u001b[0;34m\u001b[0m\u001b[0m\n\u001b[1;32m   1366\u001b[0m             \u001b[0mdata\u001b[0m \u001b[0;34m=\u001b[0m \u001b[0;32mNone\u001b[0m\u001b[0;34m\u001b[0m\u001b[0;34m\u001b[0m\u001b[0m\n",
            "\u001b[0;32m/usr/lib/python3.7/genericpath.py\u001b[0m in \u001b[0;36mexists\u001b[0;34m(path)\u001b[0m\n\u001b[1;32m     17\u001b[0m     \u001b[0;34m\"\"\"Test whether a path exists.  Returns False for broken symbolic links\"\"\"\u001b[0m\u001b[0;34m\u001b[0m\u001b[0;34m\u001b[0m\u001b[0m\n\u001b[1;32m     18\u001b[0m     \u001b[0;32mtry\u001b[0m\u001b[0;34m:\u001b[0m\u001b[0;34m\u001b[0m\u001b[0;34m\u001b[0m\u001b[0m\n\u001b[0;32m---> 19\u001b[0;31m         \u001b[0mos\u001b[0m\u001b[0;34m.\u001b[0m\u001b[0mstat\u001b[0m\u001b[0;34m(\u001b[0m\u001b[0mpath\u001b[0m\u001b[0;34m)\u001b[0m\u001b[0;34m\u001b[0m\u001b[0;34m\u001b[0m\u001b[0m\n\u001b[0m\u001b[1;32m     20\u001b[0m     \u001b[0;32mexcept\u001b[0m \u001b[0mOSError\u001b[0m\u001b[0;34m:\u001b[0m\u001b[0;34m\u001b[0m\u001b[0;34m\u001b[0m\u001b[0m\n\u001b[1;32m     21\u001b[0m         \u001b[0;32mreturn\u001b[0m \u001b[0;32mFalse\u001b[0m\u001b[0;34m\u001b[0m\u001b[0;34m\u001b[0m\u001b[0m\n",
            "\u001b[0;31mTypeError\u001b[0m: stat: path should be string, bytes, os.PathLike or integer, not NoneType"
          ]
        }
      ],
      "source": [
        "display(Video(filename=\"./videos/ValueIterationV.mp4\"))"
      ]
    },
    {
      "cell_type": "markdown",
      "id": "373063a5",
      "metadata": {
        "id": "373063a5"
      },
      "source": [
        "### Value iteration with the $Q$ function ###"
      ]
    },
    {
      "cell_type": "markdown",
      "id": "bbd998ff",
      "metadata": {
        "id": "bbd998ff"
      },
      "source": [
        "\n",
        "The state-action value function $Q^{\\pi}(s,a)$ defines the value of being in state $s$, taking action $a$ then following policy $\\pi$. The Bellman Optimality Equation for $Q^*$ is\n",
        "$$ Q^*(s,a) =  r(s,a) + \\gamma \\sum_{y} P(s,a,y) \\max_{a'}Q^*(y,a'). $$ \n"
      ]
    },
    {
      "cell_type": "markdown",
      "id": "01b93050",
      "metadata": {
        "id": "01b93050"
      },
      "source": [
        "**Question:** By taking inspiration from the `value_iteration_v(mdp)` function above, fill the blank (given with '\\#Q[x,u]=...') in the code of `value_iteration_q(mdp)`."
      ]
    },
    {
      "cell_type": "code",
      "execution_count": 91,
      "id": "5e6ca7f2",
      "metadata": {
        "id": "5e6ca7f2"
      },
      "outputs": [],
      "source": [
        "\n",
        "# ------------------ Value Iteration with the Q function ---------------------#\n",
        "# Given a MDP, this algorithm computes the optimal action value function Q\n",
        "# It then derives the optimal policy based on this function\n",
        "\n",
        "\n",
        "def value_iteration_q(mdp: MazeMDPEnv, render: bool = True) -> Tuple[np.ndarray, List[float]]:\n",
        "    q = np.zeros((mdp.nb_states, mdp.action_space.size))  # initial action values are set to 0\n",
        "    q_list = []\n",
        "    stop = False\n",
        "\n",
        "    \n",
        "\n",
        "    if render:\n",
        "        mdp.init_draw(\"Value iteration Q\")\n",
        "\n",
        "    while not stop:\n",
        "        qold = q.copy()\n",
        "\n",
        "        if render:\n",
        "            mdp.draw_v(q, title=\"Value iteration Q\")\n",
        "\n",
        "        for x in range(mdp.nb_states):\n",
        "            if x not in mdp.terminal_states:\n",
        "                q_temp = []\n",
        "                for u in mdp.action_space.actions:\n",
        "                    summ = 0\n",
        "                    for y in range(mdp.nb_states):\n",
        "                        summ += mdp.P[x, u, y] * np.max(qold[y, :])\n",
        "                    q[x][u] = mdp.r[x, u] + mdp.gamma * summ\n",
        "                q_temp.append(q[x])\n",
        "\n",
        "        if (np.linalg.norm(q - qold)) <= 0.01:\n",
        "            stop = True\n",
        "        q_list.append(np.linalg.norm(q))\n",
        "\n",
        "    if render:\n",
        "        mdp.draw_v(q, title=\"Value iteration Q\")\n",
        "        mdp.mdp.plotter.video_writer.release()\n",
        "\n",
        "    return q, q_list\n"
      ]
    },
    {
      "cell_type": "markdown",
      "id": "aa309999",
      "metadata": {
        "id": "aa309999"
      },
      "source": [
        "Once you are done, run it."
      ]
    },
    {
      "cell_type": "code",
      "execution_count": 92,
      "id": "498a59bb",
      "metadata": {
        "colab": {
          "base_uri": "https://localhost:8080/"
        },
        "id": "498a59bb",
        "outputId": "ff333db9-75d0-4b5f-b8cb-ecc695a1a2ce"
      },
      "outputs": [
        {
          "output_type": "stream",
          "name": "stdout",
          "text": [
            "[[0.38742049 0.43046721 0.38742049 0.38742049]\n",
            " [0.38742049 0.4782969  0.4782969  0.43046721]\n",
            " [0.43046721 0.531441   0.531441   0.4782969 ]\n",
            " [0.4782969  0.59049    0.59049    0.531441  ]\n",
            " [0.531441   0.59049    0.6561     0.59049   ]\n",
            " [0.4782969  0.531441   0.531441   0.43046721]\n",
            " [0.4782969  0.59049    0.59049    0.4782969 ]\n",
            " [0.531441   0.6561     0.6561     0.531441  ]\n",
            " [0.59049    0.6561     0.729      0.59049   ]\n",
            " [0.4782969  0.531441   0.4782969  0.4782969 ]\n",
            " [0.4782969  0.59049    0.59049    0.4782969 ]\n",
            " [0.531441   0.6561     0.6561     0.531441  ]\n",
            " [0.59049    0.729      0.729      0.59049   ]\n",
            " [0.6561     0.729      0.81       0.6561    ]\n",
            " [0.59049    0.6561     0.531441   0.531441  ]\n",
            " [0.59049    0.729      0.6561     0.59049   ]\n",
            " [0.6561     0.81       0.729      0.6561    ]\n",
            " [0.729      0.81       0.9        0.729     ]\n",
            " [0.531441   0.531441   0.531441   0.59049   ]\n",
            " [1.         1.         1.         1.        ]\n",
            " [0.         0.         0.         0.        ]]\n",
            "[2.0, 2.193171219946131, 2.603516852259651, 3.3211184862934355, 4.024355168222606, 4.666292914252169, 5.127685846977758, 5.38872686632857, 5.45706746480489, 5.511802233083119, 5.511802233083119]\n"
          ]
        }
      ],
      "source": [
        "q, q_list = value_iteration_q(env, render=False)\n",
        "print(q)\n",
        "print(q_list)"
      ]
    },
    {
      "cell_type": "code",
      "execution_count": 93,
      "id": "e26c035d",
      "metadata": {
        "colab": {
          "base_uri": "https://localhost:8080/",
          "height": 17
        },
        "id": "e26c035d",
        "outputId": "9df6364b-aedb-4506-e6bc-cf934eef4ce9"
      },
      "outputs": [
        {
          "output_type": "display_data",
          "data": {
            "text/plain": [
              "<IPython.core.display.HTML object>"
            ],
            "text/html": []
          },
          "metadata": {}
        }
      ],
      "source": [
        "show_videos(\"videos/\", prefix=\"ValueiterationQ\")"
      ]
    },
    {
      "cell_type": "markdown",
      "id": "8aeb2d98",
      "metadata": {
        "id": "8aeb2d98"
      },
      "source": [
        "## Policy Iteration ##"
      ]
    },
    {
      "cell_type": "markdown",
      "id": "718b388b",
      "metadata": {
        "id": "718b388b"
      },
      "source": [
        "\n",
        "The **policy iteration** algorithm is more complicated than **value iteration**.\n",
        "Given a MDP and a policy $\\pi$, **policy iteration** iterates the following steps: \n",
        "\n",
        "*   Evaluate policy $\\pi$: compute $V$ or $Q$ based on the policy $\\pi$;\n",
        "*   Improve policy $\\pi$: compute a better policy based on $V$ or $Q$.\n",
        "\n",
        "This process is repeated until convergence, i.e. when the policy cannot be improved anymore.\n"
      ]
    },
    {
      "cell_type": "markdown",
      "id": "d2d4902e",
      "metadata": {
        "id": "d2d4902e"
      },
      "source": [
        "### Policy iteration with the $V$ function ###"
      ]
    },
    {
      "cell_type": "markdown",
      "id": "59b1e121",
      "metadata": {
        "id": "59b1e121"
      },
      "source": [
        "When using $V$, $V^{\\pi}(s)$ is the expected return when starting from state $s$ and following policy $\\pi$. It is processed based on the Bellman Optimality Equation for deterministic policies:\n",
        "\n",
        "$$V^\\pi(s) = r(s, \\pi(s)) + \\gamma \\sum_{y \\in S}P(s, \\pi(s), y)V^\\pi(y),$$\n",
        "\n",
        "\n",
        "where:\n",
        "\n",
        "*   $\\pi$ is a deterministic policy, meaning that in a state $s$, the agent always selects the same action,\n",
        "*   $V^\\pi(y)$ is the value of the state $y$ under policy $\\pi$.\n",
        "\n",
        "\n",
        "Thus, given a policy $\\pi$, one must first compute its value function $V^\\pi(s)$ for all states $s$ iterating the Bellman Optimality Equation until convergence, that is using **value iteration**.\n",
        "Then, one must determine if policy $\\pi$ can be improved based on $V$. For that, in each state $s$, one can compute the Q-value $Q(s,a)$ of applying action $a$ and then following policy $\\pi$ based on the just computed $V^\\pi$, and replace the action $\\pi(s)$ with $\\arg\\max_a Q(s,a)$.\n"
      ]
    },
    {
      "cell_type": "markdown",
      "id": "1c3426e8",
      "metadata": {
        "id": "1c3426e8"
      },
      "source": [
        "\n",
        "In order to facilitate the coding of **policy iteration** algorithms, we first define a set of useful functions.\n",
        "\n",
        "The `improve_policy_from_v(mdp, v, policy)` function is very similar to the `get_policy_from_v(v)` function which was given above. The main difference is that it takes a policy as argument and improves this policy when possible, thus is is more in the spirit of the `policy improvement` step of **policy iteration**. But both functions can be used interchangeably.\n",
        "\n",
        "The functions `evaluate_one_step_v(mdp, v, policy)`, where `mdp` is a given MDP, `v` is some value function in this MDP and `policy` is some policy and the function `evaluate_v(mdp, policy)` are also given. These functions are used to build the value function $V^\\pi$ corresponding to policy $\\pi$.\n"
      ]
    },
    {
      "cell_type": "code",
      "execution_count": 94,
      "id": "9494bb71",
      "metadata": {
        "id": "9494bb71"
      },
      "outputs": [],
      "source": [
        "def improve_policy_from_v(mdp: MazeMDPEnv, v: np.ndarray, policy: np.ndarray) -> np.ndarray:\n",
        "    # Improves a policy given the state values\n",
        "    for x in range(mdp.nb_states):  # for each state x\n",
        "        # Compute the value of the state x for each action u of the MDP action space\n",
        "        if x not in mdp.terminal_states:\n",
        "            v_temp = np.zeros(mdp.action_space.size)\n",
        "            for u in mdp.action_space.actions:\n",
        "                # Process sum of the values of the neighbouring states\n",
        "                summ = 0\n",
        "                for y in range(mdp.nb_states):\n",
        "                    summ = summ + mdp.P[x, u, y] * v[y]\n",
        "                v_temp[u] = mdp.r[x, u] + mdp.gamma * summ\n",
        "\n",
        "            for u in mdp.action_space.actions:\n",
        "                if v_temp[u] > v_temp[policy[x]]:\n",
        "                    policy[x] = u\n",
        "    return policy"
      ]
    },
    {
      "cell_type": "code",
      "execution_count": 95,
      "id": "b1fee20f",
      "metadata": {
        "id": "b1fee20f"
      },
      "outputs": [],
      "source": [
        "def evaluate_one_step_v(mdp: MazeMDPEnv, v: np.ndarray, policy: np.ndarray) -> np.ndarray:\n",
        "    # Outputs the state value function after one step of policy evaluation\n",
        "    # Corresponds to one application of the Bellman Operator\n",
        "    v_new = np.zeros(mdp.nb_states)  # initial state values are set to 0\n",
        "    for x in range(mdp.nb_states):  # for each state x\n",
        "        # Compute the value of the state x for each action u of the MDP action space\n",
        "        if x not in mdp.terminal_states:\n",
        "            # Process sum of the values of the neighbouring states\n",
        "            summ = 0\n",
        "            for y in range(mdp.nb_states):\n",
        "                summ = summ + mdp.P[x, policy[x], y] * v[y]\n",
        "            v_new[x] = mdp.r[x, policy[x]] + mdp.gamma * summ\n",
        "    return v_new\n"
      ]
    },
    {
      "cell_type": "code",
      "execution_count": 96,
      "id": "7ffb8471",
      "metadata": {
        "id": "7ffb8471"
      },
      "outputs": [],
      "source": [
        "def evaluate_v(mdp: MazeMDPEnv, policy: np.ndarray) -> np.ndarray:\n",
        "    # Outputs the state value function of a policy\n",
        "    v = np.zeros(mdp.nb_states)  # initial state values are set to 0\n",
        "    stop = False\n",
        "    i=0\n",
        "    while not stop:\n",
        "        vold = v.copy()\n",
        "        v = evaluate_one_step_v(mdp, vold, policy)\n",
        "        i+=1\n",
        "\n",
        "        # Test if convergence has been reached\n",
        "        if (np.linalg.norm(v - vold)) < 0.01:\n",
        "            stop = True\n",
        "\n",
        "    return v,i\n"
      ]
    },
    {
      "cell_type": "markdown",
      "id": "ae418405",
      "metadata": {
        "id": "ae418405"
      },
      "source": [
        "To perform **policy iteration** we also need an initial random policy."
      ]
    },
    {
      "cell_type": "code",
      "execution_count": 97,
      "id": "0a1ed24b",
      "metadata": {
        "id": "0a1ed24b"
      },
      "outputs": [],
      "source": [
        "from mazemdp import random_policy"
      ]
    },
    {
      "cell_type": "markdown",
      "id": "a693d216",
      "metadata": {
        "id": "a693d216"
      },
      "source": [
        "**Question:** By using the above functions, fill the code of the `policy_iteration_v(mdp)` function below."
      ]
    },
    {
      "cell_type": "code",
      "execution_count": 100,
      "id": "67958517",
      "metadata": {
        "id": "67958517"
      },
      "outputs": [],
      "source": [
        "# ---------------- Policy Iteration with the V function -----------------#\n",
        "# Given an MDP, this algorithm simultaneously computes \n",
        "# the optimal state value function V and the optimal policy\n",
        "\n",
        "def policy_iteration_v(mdp: MazeMDPEnv, render: bool = True) -> Tuple[np.ndarray, List[float]]:\n",
        "    # policy iteration over the v function\n",
        "    v = np.zeros(mdp.nb_states)  # initial state values are set to 0\n",
        "    v_list = []\n",
        "    policy = random_policy(mdp)\n",
        "\n",
        "    stop = False\n",
        "\n",
        "    if render:\n",
        "        mdp.init_draw(\"Policy iteration V\")\n",
        "\n",
        "    while not stop:\n",
        "        vold = v.copy()\n",
        "        # Step 1 : Policy Evaluation        \n",
        "        v,i = evaluate_v(mdp,policy)\n",
        "\n",
        "        if render:\n",
        "            mdp.draw_v_pi(v, policy, title=\"Policy iteration V\")\n",
        "\n",
        "        # Step 2 : Policy Improvement        \n",
        "        policy = improve_policy_from_v(mdp, v, policy)\n",
        "        \n",
        "        # Check convergence\n",
        "        if (np.linalg.norm(v - vold)) < 0.01:\n",
        "            stop = True\n",
        "        v_list.append(np.linalg.norm(v))\n",
        "\n",
        "    if render:\n",
        "        mdp.draw_v_pi(v, policy, title=\"Policy iteration V\")\n",
        "        mdp.mdp.plotter.video_writer.release()\n",
        "\n",
        "    return v, v_list\n"
      ]
    },
    {
      "cell_type": "markdown",
      "id": "e39a654f",
      "metadata": {
        "id": "e39a654f"
      },
      "source": [
        "And finally run it."
      ]
    },
    {
      "cell_type": "code",
      "execution_count": 101,
      "id": "ecf2732b",
      "metadata": {
        "id": "ecf2732b"
      },
      "outputs": [],
      "source": [
        "v, v_list = policy_iteration_v(env, render=False)"
      ]
    },
    {
      "cell_type": "code",
      "execution_count": 20,
      "id": "27b0cfbb",
      "metadata": {
        "colab": {
          "base_uri": "https://localhost:8080/",
          "height": 17
        },
        "id": "27b0cfbb",
        "outputId": "8698cad8-b788-4b5f-aa33-a97a6978a94e"
      },
      "outputs": [
        {
          "output_type": "display_data",
          "data": {
            "text/plain": [
              "<IPython.core.display.HTML object>"
            ],
            "text/html": []
          },
          "metadata": {}
        }
      ],
      "source": [
        "show_videos(\"videos/\", prefix=\"PolicyiterationV\")"
      ]
    },
    {
      "cell_type": "markdown",
      "id": "dedd92b3",
      "metadata": {
        "id": "dedd92b3"
      },
      "source": [
        "### Policy iteration with the $Q$ function ###"
      ]
    },
    {
      "cell_type": "markdown",
      "id": "49e11516",
      "metadata": {
        "id": "49e11516"
      },
      "source": [
        "\n",
        "The **policy iteration** algorithm with the $Q$ function is the same as with the $V$ function, but the policy improvement step is more straightforward.\n",
        "\n",
        "When using $Q$, the Bellman Optimality Equation with deterministic policy $\\pi$ for $Q$ becomes: \n",
        "$$Q^{\\pi}(s,a) = r(s,a) + \\gamma \\sum_{y \\in S}P(s,a,y)Q^{\\pi}(y,\\pi(y)).$$\n",
        "\n",
        "The policy can then be updated as follows:\n",
        "$$\\pi^{(t+1)}(s) = \\arg\\max_aQ^{\\pi^{(t)}}(s,a).$$\n"
      ]
    },
    {
      "cell_type": "markdown",
      "id": "f6bbc271",
      "metadata": {
        "id": "f6bbc271"
      },
      "source": [
        "First, we need to determine a policy from the $Q$ function."
      ]
    },
    {
      "cell_type": "markdown",
      "id": "bf293b53",
      "metadata": {
        "id": "bf293b53"
      },
      "source": [
        "**Question:**  fill the `get_policy_from_q(q)` function, where $q$ is the state-action value function."
      ]
    },
    {
      "cell_type": "code",
      "execution_count": 102,
      "id": "a09bb775",
      "metadata": {
        "id": "a09bb775"
      },
      "outputs": [],
      "source": [
        "def get_policy_from_q(q: np.ndarray) -> np.ndarray:\n",
        "    return np.argmax(q,axis=1)\n"
      ]
    },
    {
      "cell_type": "markdown",
      "id": "01c23518",
      "metadata": {
        "id": "01c23518"
      },
      "source": [
        "**Question:** By drawing inspiration on the functions give with the $v$ function, fill the code of the `evaluate_one_step_q(mdp, q, policy)` function below, where $q$ is some action value function, and the `evaluate_q(mdp, policy)` function."
      ]
    },
    {
      "cell_type": "code",
      "execution_count": 103,
      "id": "00e08a5e",
      "metadata": {
        "id": "00e08a5e"
      },
      "outputs": [],
      "source": [
        "def evaluate_one_step_q(mdp: MazeMDPEnv, q: np.ndarray, policy: np.ndarray) -> np.ndarray:\n",
        "    # Outputs the state value function after one step of policy evaluation\n",
        "    qnew = np.zeros((mdp.nb_states, mdp.action_space.size))  # initial action values are set to 0\n",
        "    for x in range(mdp.nb_states):  # for each state x\n",
        "        # Compute the value of the state x for each action u of the MDP action space\n",
        "        if x not in mdp.terminal_states:\n",
        "            for u in mdp.action_space.actions:\n",
        "                # Process sum of the values of the neighbouring states\n",
        "                summ = 0\n",
        "                for y in range(mdp.nb_states):\n",
        "                    summ += mdp.P[x,u, y] * q[y,policy[y]]\n",
        "                qnew[x, u] = mdp.r[x, u] + mdp.gamma * summ\n",
        "    return qnew\n",
        "    "
      ]
    },
    {
      "cell_type": "code",
      "execution_count": 104,
      "id": "b81a2f29",
      "metadata": {
        "id": "b81a2f29"
      },
      "outputs": [],
      "source": [
        "def evaluate_q(mdp: MazeMDPEnv, policy: np.ndarray) -> np.ndarray:\n",
        "    # Outputs the state value function of a policy\n",
        "    q = np.zeros((mdp.nb_states, mdp.action_space.size))  # initial action values are set to 0\n",
        "    stop = False\n",
        "    i = 0\n",
        "    while not stop:\n",
        "        qold = q.copy()\n",
        "        q = evaluate_one_step_q(mdp,qold,policy)\n",
        "        # Test if convergence has been reached\n",
        "        if (np.linalg.norm(q - qold)) < 0.01:\n",
        "            stop = True\n",
        "        i+=1\n",
        "    return q , i"
      ]
    },
    {
      "cell_type": "markdown",
      "id": "110af1dc",
      "metadata": {
        "id": "110af1dc"
      },
      "source": [
        "**Question:** By using the above functions, fill the code of the `policy_iteration_q(mdp)` function below."
      ]
    },
    {
      "cell_type": "code",
      "execution_count": 105,
      "id": "f05f1b28",
      "metadata": {
        "id": "f05f1b28"
      },
      "outputs": [],
      "source": [
        "# ---------------- Policy Iteration with the Q function -----------------#\n",
        "# Given a MDP, this algorithm simultaneously computes \n",
        "# the optimal action value function Q and the optimal policy\n",
        "\n",
        "def policy_iteration_q(mdp: MazeMDPEnv, render: bool = True) -> Tuple[np.ndarray, List[float]]:\n",
        "    \"\"\"policy iteration over the q function.\"\"\"\n",
        "    q = np.zeros((mdp.nb_states, mdp.action_space.size))  # initial action values are set to 0\n",
        "    q_list = []\n",
        "    policy = random_policy(mdp)\n",
        "\n",
        "    stop = False\n",
        "\n",
        "    if render:\n",
        "        mdp.init_draw(\"Policy iteration Q\")\n",
        "\n",
        "    while not stop:\n",
        "        qold = q.copy()\n",
        "\n",
        "        if render:\n",
        "            mdp.draw_v(q, title=\"Policy iteration Q\")\n",
        "\n",
        "        # Step 1 : Policy evaluation        \n",
        "        q,i = evaluate_q(mdp,policy)\n",
        "\n",
        "        # Step 2 : Policy improvement        \n",
        "        policy = get_policy_from_q(q)\n",
        "\n",
        "        # Check convergence\n",
        "        if (np.linalg.norm(q - qold)) <= 0.01:\n",
        "            stop = True\n",
        "        q_list.append(np.linalg.norm(q))\n",
        "\n",
        "    if render:\n",
        "        mdp.draw_v_pi(q, get_policy_from_q(q), title=\"Policy iteration Q\")\n",
        "    return q, q_list\n"
      ]
    },
    {
      "cell_type": "markdown",
      "id": "c01d089d",
      "metadata": {
        "id": "c01d089d"
      },
      "source": [
        "Finally, run it."
      ]
    },
    {
      "cell_type": "code",
      "execution_count": 106,
      "id": "d197c871",
      "metadata": {
        "id": "d197c871"
      },
      "outputs": [],
      "source": [
        "q, q_list = policy_iteration_q(env, render=False)"
      ]
    },
    {
      "cell_type": "code",
      "execution_count": null,
      "id": "0a940e78",
      "metadata": {
        "id": "0a940e78"
      },
      "outputs": [],
      "source": [
        "show_videos(\"videos/\", prefix=\"PolicyiterationQ\")"
      ]
    },
    {
      "cell_type": "markdown",
      "id": "77454445",
      "metadata": {
        "id": "77454445"
      },
      "source": [
        "### Study part: Experimental comparisons"
      ]
    },
    {
      "cell_type": "markdown",
      "id": "cca5885f",
      "metadata": {
        "id": "cca5885f"
      },
      "source": [
        "We will now compare the efficiency of the various dynamic programming methods using either the $V$ or the  $Q$ functions.\n",
        "\n",
        "In all your dymanic programming functions, add code to count the number of iterations and the number of elementary $V$ or $Q$ updates. Use the provided `mazemdp.Chrono` class to measure the time taken. You may generate various mazes of various sizes to figure out the influence of the maze topology.\n",
        "\n",
        "Build a table where you compare the various dymanic programming functions in terms of iterations, elementary operations and time taken.\n",
        "\n",
        "You can run the `plot_convergence_vi_pi(...)` function provided below to visualize the convergence of the various algorithms.\n"
      ]
    },
    {
      "cell_type": "code",
      "execution_count": 107,
      "id": "3dbf1697",
      "metadata": {
        "id": "3dbf1697"
      },
      "outputs": [],
      "source": [
        "\n",
        "# ---- plot learning curves of Q-Learning and Sarsa using epsilon-greedy and softmax -----#\n",
        "\n",
        "def plot_convergence_vi_pi(m, render):\n",
        "    v, v_list1 = value_iteration_v(m, render)\n",
        "    q, q_list1 = value_iteration_q(m, render)\n",
        "    v, v_list2 = policy_iteration_v(m, render)\n",
        "    q, q_list2 = policy_iteration_q(m, render)\n",
        "\n",
        "    plt.plot(range(len(v_list1)), v_list1, label='value_iteration_v')\n",
        "    plt.plot(range(len(q_list1)), q_list1, label='value_iteration_q')\n",
        "    plt.plot(range(len(v_list2)), v_list2, label='policy_iteration_v')\n",
        "    plt.plot(range(len(q_list2)), q_list2, label='policy_iteration_q')\n",
        "\n",
        "    plt.xlabel('Number of episodes')\n",
        "    plt.ylabel('Norm of V or Q value')\n",
        "    plt.legend(loc='upper right')\n",
        "    # plt.savefig(\"comparison_DP.png\")\n",
        "    plt.title(\"Comparison of convergence rates\")\n",
        "    plt.show()"
      ]
    },
    {
      "cell_type": "markdown",
      "id": "d84b16d5",
      "metadata": {
        "id": "d84b16d5"
      },
      "source": [
        "**Question:** Run the code below and visualize the results of the different algorithms"
      ]
    },
    {
      "cell_type": "code",
      "execution_count": 108,
      "id": "1b22c238",
      "metadata": {
        "colab": {
          "base_uri": "https://localhost:8080/",
          "height": 295
        },
        "id": "1b22c238",
        "outputId": "506463bb-d894-45e8-c364-b42229f7e96e"
      },
      "outputs": [
        {
          "output_type": "display_data",
          "data": {
            "text/plain": [
              "<Figure size 432x288 with 1 Axes>"
            ],
            "image/png": "[encoded data removed]"
          },
          "metadata": {
            "needs_background": "light"
          }
        }
      ],
      "source": [
        "plot_convergence_vi_pi(env, False)\n"
      ]
    },
    {
      "cell_type": "markdown",
      "id": "9a7a492f",
      "metadata": {
        "id": "9a7a492f"
      },
      "source": [
        "\n",
        "Given the results above, discuss the relative computational efficiency of these methods."
      ]
    },
    {
      "cell_type": "markdown",
      "id": "c4a7297e",
      "metadata": {
        "id": "c4a7297e"
      },
      "source": [
        "### Study part: Generalized Policy Iteration"
      ]
    },
    {
      "cell_type": "markdown",
      "id": "a70adab3",
      "metadata": {
        "id": "a70adab3"
      },
      "source": [
        "Code the **generalized policy iteration** algorithm and study the influence of the number of evaluation steps between each improvement step"
      ]
    },
    {
      "cell_type": "code",
      "execution_count": 109,
      "id": "e47f7ddf",
      "metadata": {
        "id": "e47f7ddf"
      },
      "outputs": [],
      "source": [
        "# ---------------- Policy Iteration with the Q function -----------------#\n",
        "# Given a MDP, this algorithm simultaneously computes \n",
        "# the optimal action value function Q and the optimal policy\n",
        "\n",
        "def generalized_policy_iteration_q(mdp: MazeMDPEnv,K:int) -> Tuple[np.ndarray, List[float]]:\n",
        "    \"\"\"policy iteration over the q function.\"\"\"\n",
        "    q = np.zeros((mdp.nb_states, mdp.action_space.size))  # initial action values are set to 0\n",
        "    q_list = []\n",
        "    policy = random_policy(mdp)\n",
        "    one_step_count  = 0\n",
        "    stop = False\n",
        "    while not stop:\n",
        "        qold = q.copy()\n",
        "\n",
        "        # Step 1 : Policy evaluation        \n",
        "        for i in range(K):\n",
        "            q,i  = evaluate_q(mdp,policy)\n",
        "        one_step_count += i\n",
        "\n",
        "        # Step 2 : Policy improvement        \n",
        "        policy = get_policy_from_q(q)\n",
        "\n",
        "        # Check convergence\n",
        "        if (np.linalg.norm(q - qold)) <= 0.01:\n",
        "            stop = True\n",
        "        q_list.append(np.linalg.norm(q))\n",
        "\n",
        "    return q, q_list,one_step_count\n"
      ]
    },
    {
      "cell_type": "code",
      "execution_count": 110,
      "id": "042583f0",
      "metadata": {
        "id": "042583f0"
      },
      "outputs": [],
      "source": [
        "def plot_convergence_K(m, ranges):\n",
        "    iterations = []\n",
        "    for K in range(1,ranges):\n",
        "        q, q_list,i = generalized_policy_iteration_q(m, K)\n",
        "        iterations.append(i)\n",
        "        #plt.plot(range(len(q_list)), q_list, label=f'Q K={K}')\n",
        "\n",
        "    plt.plot(iterations)\n",
        "    plt.xlabel('Number of K')\n",
        "    plt.ylabel('One_step_count value')\n",
        "    plt.legend(loc='upper right')\n",
        "    # plt.savefig(\"comparison_DP.png\")\n",
        "    plt.title(\"Comparison of one step counts\")\n",
        "    plt.show()"
      ]
    },
    {
      "cell_type": "code",
      "execution_count": 111,
      "id": "14e165d9",
      "metadata": {
        "colab": {
          "base_uri": "https://localhost:8080/",
          "height": 312
        },
        "id": "14e165d9",
        "outputId": "ecf020fa-8276-4248-c33e-320029cfaabe"
      },
      "outputs": [
        {
          "output_type": "stream",
          "name": "stderr",
          "text": [
            "WARNING:matplotlib.legend:No handles with labels found to put in legend.\n"
          ]
        },
        {
          "output_type": "display_data",
          "data": {
            "text/plain": [
              "<Figure size 432x288 with 1 Axes>"
            ],
            "image/png": "[encoded data removed]"
          },
          "metadata": {
            "needs_background": "light"
          }
        }
      ],
      "source": [
        "plot_convergence_K(env, 10)"
      ]
    },
    {
      "cell_type": "code",
      "source": [
        "def plot_convergence_K(m, ranges):\n",
        "    iterations = []\n",
        "    for K in range(1,ranges):\n",
        "        q, q_list,i = generalized_policy_iteration_q(m, K)\n",
        "        #iterations.append(i)\n",
        "        plt.plot(range(K, len(q_list)))\n",
        "\n",
        "    #plt.plot(iterations)\n",
        "    plt.xlabel('Number of K')\n",
        "    plt.ylabel('One_step_count value')\n",
        "    plt.legend(loc='upper right')\n",
        "    # plt.savefig(\"comparison_DP.png\")\n",
        "    plt.title(\"Comparison of one step counts\")\n",
        "    plt.show()"
      ],
      "metadata": {
        "id": "N1vQ2_MHxgbb"
      },
      "id": "N1vQ2_MHxgbb",
      "execution_count": 120,
      "outputs": []
    },
    {
      "cell_type": "code",
      "source": [
        "plot_convergence_K(env, 10)"
      ],
      "metadata": {
        "colab": {
          "base_uri": "https://localhost:8080/",
          "height": 312
        },
        "id": "7YqNuu9BxkKz",
        "outputId": "1afc1548-e56c-4c26-c0d8-1d90e84dc93b"
      },
      "id": "7YqNuu9BxkKz",
      "execution_count": 121,
      "outputs": [
        {
          "output_type": "stream",
          "name": "stderr",
          "text": [
            "WARNING:matplotlib.legend:No handles with labels found to put in legend.\n"
          ]
        },
        {
          "output_type": "display_data",
          "data": {
            "text/plain": [
              "<Figure size 432x288 with 1 Axes>"
            ],
            "image/png": "[encoded data removed]"
          },
          "metadata": {
            "needs_background": "light"
          }
        }
      ]
    },
    {
      "cell_type": "code",
      "execution_count": 112,
      "id": "ad7983bd",
      "metadata": {
        "id": "ad7983bd"
      },
      "outputs": [],
      "source": [
        "def generalized_policy_iteration_v(mdp: MazeMDPEnv, K: int) -> Tuple[np.ndarray, List[float]]:\n",
        "    # policy iteration over the v function\n",
        "    v = np.zeros(mdp.nb_states)  # initial state values are set to 0\n",
        "    v_list = []\n",
        "    policy = random_policy(mdp)\n",
        "    one_step_count  = 0\n",
        "    stop = False\n",
        "    i = 0\n",
        "    while not stop:\n",
        "        vold = v.copy()\n",
        "        # Step 1 : Policy Evaluation        \n",
        "        for i in range(K):\n",
        "            v,j  = evaluate_v(mdp,policy)\n",
        "        one_step_count += j\n",
        "        # Step 2 : Policy Improvement        \n",
        "        policy = improve_policy_from_v(mdp, v, policy)\n",
        "        \n",
        "        # Check convergence\n",
        "        if (np.linalg.norm(v - vold)) < 0.01:\n",
        "            stop = True\n",
        "        v_list.append(np.linalg.norm(v))\n",
        "        \n",
        "    return v, v_list,one_step_count"
      ]
    },
    {
      "cell_type": "code",
      "source": [
        "def plot_convergence_K(m, ranges):\n",
        "    iterations = []\n",
        "    for K in range(1,ranges):\n",
        "        v, v_list,i = generalized_policy_iteration_v(m, K)\n",
        "        iterations.append(i)\n",
        "        #plt.plot(range(len(q_list)), q_list, label=f'Q K={K}')\n",
        "\n",
        "    plt.plot(iterations)\n",
        "    plt.xlabel('Number of episodes')\n",
        "    plt.ylabel('Norm of V or Q value')\n",
        "    plt.legend(loc='upper right')\n",
        "    # plt.savefig(\"comparison_DP.png\")\n",
        "    plt.title(\"Comparison of convergence rates\")\n",
        "    plt.show()"
      ],
      "metadata": {
        "id": "fztptMf_jGyM"
      },
      "id": "fztptMf_jGyM",
      "execution_count": 55,
      "outputs": []
    },
    {
      "cell_type": "code",
      "source": [
        "plot_convergence_K(env, 10)"
      ],
      "metadata": {
        "colab": {
          "base_uri": "https://localhost:8080/",
          "height": 312
        },
        "id": "fcwpaZk2jaWj",
        "outputId": "3b859a44-aeb8-4f1a-a026-1e9ee43d7886"
      },
      "id": "fcwpaZk2jaWj",
      "execution_count": 56,
      "outputs": [
        {
          "output_type": "stream",
          "name": "stderr",
          "text": [
            "WARNING:matplotlib.legend:No handles with labels found to put in legend.\n"
          ]
        },
        {
          "output_type": "display_data",
          "data": {
            "text/plain": [
              "<Figure size 432x288 with 1 Axes>"
            ],
            "image/png": "[encoded data removed]"
          },
          "metadata": {
            "needs_background": "light"
          }
        }
      ]
    },
    {
      "cell_type": "code",
      "source": [
        "'''def generalized_policy_iteration_vq(mdp: MazeMDPEnv, K: int) -> Tuple[np.ndarray, List[float]]:\n",
        "    # policy iteration over the v function\n",
        "    v = np.zeros(mdp.nb_states)  # initial state values are set to 0\n",
        "    v_list = []\n",
        "    policy1,policy2 = random_policy(mdp)\n",
        "\n",
        "    one_step_count_v  = 0\n",
        "    one_step_count_q  = 0\n",
        "    q = np.zeros((mdp.nb_states, mdp.action_space.size))  # initial action values are set to 0\n",
        "    q_list = []\n",
        "    stop = False\n",
        "    q_or_v=False\n",
        "    i = 0\n",
        "    while not stop:\n",
        "        vold = v.copy()\n",
        "        qold = q.copy()\n",
        "        # Step 1 : Policy Evaluation        \n",
        "        for i in range(K):\n",
        "            v,j  = evaluate_v(mdp,policy)\n",
        "            q,i  = evaluate_q(mdp,policy)\n",
        "        one_step_count_v += j\n",
        "        one_step_count_q += i\n",
        "        # Step 2 : Policy Improvement\n",
        "        policy1 = get_policy_from_q(q)        \n",
        "        policy2 = improve_policy_from_v(mdp, v, policy)\n",
        "        \n",
        "        # Check convergence\n",
        "        if (np.linalg.norm(v - vold)) < 0.01:\n",
        "            stop = True\n",
        "            q_or_v=True\n",
        "        v_list.append(np.linalg.norm(v))\n",
        "        if (np.linalg.norm(q - qold)) <= 0.01:\n",
        "            stop = True\n",
        "        q_list.append(np.linalg.norm(q))\n",
        "\n",
        "\n",
        "        \n",
        "    return v, v_list,one_step_count_v,one_step_count_q,q_or_v'''"
      ],
      "metadata": {
        "id": "4UVD3XWbj2y2"
      },
      "id": "4UVD3XWbj2y2",
      "execution_count": 65,
      "outputs": []
    },
    {
      "cell_type": "code",
      "source": [
        "'''def plot_convergence_K(m, ranges):\n",
        "    iterations_v = []\n",
        "    iterations_q = []\n",
        "    for K in range(1,ranges):\n",
        "        v, v_list,i,j,q_or_v = generalized_policy_iteration_vq(m, K)\n",
        "        iterations_v.append(i)\n",
        "        iterations_q.append(i)\n",
        "        #plt.plot(range(len(q_list)), q_list, label=f'Q K={K}')\n",
        "\n",
        "    plt.figure(1)\n",
        "    #plt.plot(iterations_v)\n",
        "    plt.plot(iterations_q)\n",
        "    plt.xlabel('Number of episodes')\n",
        "    plt.ylabel('Norm of V or Q value')\n",
        "    plt.legend(loc='upper right')\n",
        "    # plt.savefig(\"comparison_DP.png\")\n",
        "    plt.title(\"Comparison of convergence rates\")\n",
        "    plt.show()\n",
        "    \n",
        "    print(q_or_v)'''"
      ],
      "metadata": {
        "id": "UpG27M8Yqg7B"
      },
      "id": "UpG27M8Yqg7B",
      "execution_count": 78,
      "outputs": []
    },
    {
      "cell_type": "code",
      "source": [
        "'''plot_convergence_K(env, 10)'''"
      ],
      "metadata": {
        "colab": {
          "base_uri": "https://localhost:8080/",
          "height": 330
        },
        "id": "pK0aUYgIqkfD",
        "outputId": "9d936288-e8f5-4386-f589-27f7642851d9"
      },
      "id": "pK0aUYgIqkfD",
      "execution_count": 80,
      "outputs": [
        {
          "output_type": "stream",
          "name": "stderr",
          "text": [
            "WARNING:matplotlib.legend:No handles with labels found to put in legend.\n"
          ]
        },
        {
          "output_type": "display_data",
          "data": {
            "text/plain": [
              "<Figure size 432x288 with 1 Axes>"
            ],
            "image/png": "[encoded data removed]"
          },
          "metadata": {
            "needs_background": "light"
          }
        },
        {
          "output_type": "stream",
          "name": "stdout",
          "text": [
            "True\n"
          ]
        }
      ]
    }
  ],
  "metadata": {
    "colab": {
      "provenance": [],
      "collapsed_sections": []
    },
    "jupytext": {
      "formats": "ipynb,Rmd"
    },
    "kernelspec": {
      "display_name": "Python 3.8.10 ('venv-wsl': venv)",
      "language": "python",
      "name": "python3"
    },
    "language_info": {
      "codemirror_mode": {
        "name": "ipython",
        "version": 3
      },
      "file_extension": ".py",
      "mimetype": "text/x-python",
      "name": "python",
      "nbconvert_exporter": "python",
      "pygments_lexer": "ipython3",
      "version": "3.8.10"
    },
    "vscode": {
      "interpreter": {
        "hash": "ebe8d98956c1e0c77d0839eb87d8ca1e1890eb2547660f9c6fa7c798e8bb24d3"
      }
    },
    "widgets": {
      "application/vnd.jupyter.widget-state+json": {
        "aa38482c40d245b2a1e47adea615afbf": {
          "model_module": "@jupyter-widgets/output",
          "model_name": "OutputModel",
          "model_module_version": "1.0.0",
          "state": {
            "_dom_classes": [],
            "_model_module": "@jupyter-widgets/output",
            "_model_module_version": "1.0.0",
            "_model_name": "OutputModel",
            "_view_count": null,
            "_view_module": "@jupyter-widgets/output",
            "_view_module_version": "1.0.0",
            "_view_name": "OutputView",
            "layout": "IPY_MODEL_aa01af71c4e74a859e02a3678480654b",
            "msg_id": "",
            "outputs": [
              {
                "output_type": "display_data",
                "data": {
                  "image/png": "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\n",
                  "text/plain": "<IPython.core.display.Image object>"
                },
                "metadata": {}
              }
            ]
          }
        },
        "aa01af71c4e74a859e02a3678480654b": {
          "model_module": "@jupyter-widgets/base",
          "model_name": "LayoutModel",
          "model_module_version": "1.2.0",
          "state": {
            "_model_module": "@jupyter-widgets/base",
            "_model_module_version": "1.2.0",
            "_model_name": "LayoutModel",
            "_view_count": null,
            "_view_module": "@jupyter-widgets/base",
            "_view_module_version": "1.2.0",
            "_view_name": "LayoutView",
            "align_content": null,
            "align_items": null,
            "align_self": null,
            "border": null,
            "bottom": null,
            "display": null,
            "flex": null,
            "flex_flow": null,
            "grid_area": null,
            "grid_auto_columns": null,
            "grid_auto_flow": null,
            "grid_auto_rows": null,
            "grid_column": null,
            "grid_gap": null,
            "grid_row": null,
            "grid_template_areas": null,
            "grid_template_columns": null,
            "grid_template_rows": null,
            "height": null,
            "justify_content": null,
            "justify_items": null,
            "left": null,
            "margin": null,
            "max_height": null,
            "max_width": null,
            "min_height": null,
            "min_width": null,
            "object_fit": null,
            "object_position": null,
            "order": null,
            "overflow": null,
            "overflow_x": null,
            "overflow_y": null,
            "padding": null,
            "right": null,
            "top": null,
            "visibility": null,
            "width": null
          }
        }
      }
    }
  },
  "nbformat": 4,
  "nbformat_minor": 5
}